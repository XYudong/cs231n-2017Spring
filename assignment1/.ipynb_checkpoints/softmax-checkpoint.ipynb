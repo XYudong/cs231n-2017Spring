{
 "cells": [
  {
   "cell_type": "markdown",
   "metadata": {},
   "source": [
    "# Softmax exercise\n",
    "\n",
    "*Complete and hand in this completed worksheet (including its outputs and any supporting code outside of the worksheet) with your assignment submission. For more details see the [assignments page](http://vision.stanford.edu/teaching/cs231n/assignments.html) on the course website.*\n",
    "\n",
    "This exercise is analogous to the SVM exercise. You will:\n",
    "\n",
    "- implement a fully-vectorized **loss function** for the Softmax classifier\n",
    "- implement the fully-vectorized expression for its **analytic gradient**\n",
    "- **check your implementation** with numerical gradient\n",
    "- use a validation set to **tune the learning rate and regularization** strength\n",
    "- **optimize** the loss function with **SGD**\n",
    "- **visualize** the final learned weights\n"
   ]
  },
  {
   "cell_type": "code",
   "execution_count": 1,
   "metadata": {},
   "outputs": [],
   "source": [
    "import random\n",
    "import numpy as np\n",
    "from cs231n.data_utils import load_CIFAR10\n",
    "import matplotlib.pyplot as plt\n",
    "\n",
    "from __future__ import print_function\n",
    "\n",
    "%matplotlib inline\n",
    "plt.rcParams['figure.figsize'] = (10.0, 8.0) # set default size of plots\n",
    "plt.rcParams['image.interpolation'] = 'nearest'\n",
    "plt.rcParams['image.cmap'] = 'gray'\n",
    "\n",
    "# for auto-reloading extenrnal modules\n",
    "# see http://stackoverflow.com/questions/1907993/autoreload-of-modules-in-ipython\n",
    "%load_ext autoreload\n",
    "%autoreload 2"
   ]
  },
  {
   "cell_type": "code",
   "execution_count": 2,
   "metadata": {},
   "outputs": [
    {
     "name": "stdout",
     "output_type": "stream",
     "text": [
      "Train data shape:  (49000, 3073)\n",
      "Train labels shape:  (49000,)\n",
      "Validation data shape:  (1000, 3073)\n",
      "Validation labels shape:  (1000,)\n",
      "Test data shape:  (1000, 3073)\n",
      "Test labels shape:  (1000,)\n",
      "dev data shape:  (500, 3073)\n",
      "dev labels shape:  (500,)\n"
     ]
    }
   ],
   "source": [
    "def get_CIFAR10_data(num_training=49000, num_validation=1000, num_test=1000, num_dev=500):\n",
    "    \"\"\"\n",
    "    Load the CIFAR-10 dataset from disk and perform preprocessing to prepare\n",
    "    it for the linear classifier. These are the same steps as we used for the\n",
    "    SVM, but condensed to a single function.  \n",
    "    \"\"\"\n",
    "    # Load the raw CIFAR-10 data\n",
    "    cifar10_dir = 'cs231n/datasets/cifar-10-batches-py'\n",
    "    X_train, y_train, X_test, y_test = load_CIFAR10(cifar10_dir)\n",
    "    \n",
    "    # subsample the data\n",
    "    mask = list(range(num_training, num_training + num_validation))\n",
    "    X_val = X_train[mask]\n",
    "    y_val = y_train[mask]\n",
    "    mask = list(range(num_training))\n",
    "    X_train = X_train[mask]\n",
    "    y_train = y_train[mask]\n",
    "    mask = list(range(num_test))\n",
    "    X_test = X_test[mask]\n",
    "    y_test = y_test[mask]\n",
    "    mask = np.random.choice(num_training, num_dev, replace=False)\n",
    "    X_dev = X_train[mask]\n",
    "    y_dev = y_train[mask]\n",
    "    \n",
    "    # Preprocessing: reshape the image data into rows\n",
    "    X_train = np.reshape(X_train, (X_train.shape[0], -1))\n",
    "    X_val = np.reshape(X_val, (X_val.shape[0], -1))\n",
    "    X_test = np.reshape(X_test, (X_test.shape[0], -1))\n",
    "    X_dev = np.reshape(X_dev, (X_dev.shape[0], -1))\n",
    "    \n",
    "    # Normalize the data: subtract the mean image\n",
    "    mean_image = np.mean(X_train, axis = 0)\n",
    "    X_train -= mean_image\n",
    "    X_val -= mean_image\n",
    "    X_test -= mean_image\n",
    "    X_dev -= mean_image\n",
    "    \n",
    "    # add bias dimension and transform into columns\n",
    "    X_train = np.hstack([X_train, np.ones((X_train.shape[0], 1))])\n",
    "    X_val = np.hstack([X_val, np.ones((X_val.shape[0], 1))])\n",
    "    X_test = np.hstack([X_test, np.ones((X_test.shape[0], 1))])\n",
    "    X_dev = np.hstack([X_dev, np.ones((X_dev.shape[0], 1))])\n",
    "    \n",
    "    return X_train, y_train, X_val, y_val, X_test, y_test, X_dev, y_dev\n",
    "\n",
    "\n",
    "# Invoke the above function to get our data.\n",
    "X_train, y_train, X_val, y_val, X_test, y_test, X_dev, y_dev = get_CIFAR10_data()\n",
    "print('Train data shape: ', X_train.shape)\n",
    "print('Train labels shape: ', y_train.shape)\n",
    "print('Validation data shape: ', X_val.shape)\n",
    "print('Validation labels shape: ', y_val.shape)\n",
    "print('Test data shape: ', X_test.shape)\n",
    "print('Test labels shape: ', y_test.shape)\n",
    "print('dev data shape: ', X_dev.shape)\n",
    "print('dev labels shape: ', y_dev.shape)"
   ]
  },
  {
   "cell_type": "markdown",
   "metadata": {},
   "source": [
    "## Softmax Classifier\n",
    "\n",
    "Your code for this section will all be written inside **cs231n/classifiers/softmax.py**. \n"
   ]
  },
  {
   "cell_type": "code",
   "execution_count": 3,
   "metadata": {},
   "outputs": [
    {
     "name": "stdout",
     "output_type": "stream",
     "text": [
      "loss: 2.363505\n",
      "sanity check: 2.302585\n"
     ]
    }
   ],
   "source": [
    "# First implement the naive softmax loss function with nested loops.\n",
    "# Open the file cs231n/classifiers/softmax.py and implement the\n",
    "# softmax_loss_naive function.\n",
    "\n",
    "from cs231n.classifiers.softmax import softmax_loss_naive\n",
    "import time\n",
    "\n",
    "# Generate a random softmax weight matrix and use it to compute the loss.\n",
    "W = np.random.randn(3073, 10) * 0.0001\n",
    "loss, grad = softmax_loss_naive(W, X_dev, y_dev, 0.0)\n",
    "\n",
    "# As a rough sanity check, our loss should be something close to -log(0.1).\n",
    "print('loss: %f' % loss)\n",
    "print('sanity check: %f' % (-np.log(0.1)))"
   ]
  },
  {
   "cell_type": "markdown",
   "metadata": {},
   "source": [
    "## Inline Question 1:\n",
    "Why do we expect our loss to be close to -log(0.1)? Explain briefly.**\n",
    "\n",
    "**Your answer:** *Fill this in*\n",
    "* We have 10 classes in total. And, the weight matrix are initialized uniformly. So scores for all classes are the same. Therefore 1/10 is 0.1.\n",
    "\n"
   ]
  },
  {
   "cell_type": "code",
   "execution_count": 4,
   "metadata": {},
   "outputs": [
    {
     "name": "stdout",
     "output_type": "stream",
     "text": [
      "numerical: 2.556071 analytic: 2.556071, relative error: 1.689387e-08\n",
      "numerical: 1.740845 analytic: 1.740845, relative error: 1.410373e-08\n",
      "numerical: -5.067630 analytic: -5.067630, relative error: 9.751537e-09\n",
      "numerical: -0.967402 analytic: -0.967401, relative error: 3.393231e-08\n",
      "numerical: -1.048666 analytic: -1.048666, relative error: 2.356028e-08\n",
      "numerical: 0.381622 analytic: 0.381622, relative error: 1.046749e-07\n",
      "numerical: -6.171739 analytic: -6.171739, relative error: 1.012252e-08\n",
      "numerical: 3.048367 analytic: 3.048367, relative error: 1.318038e-08\n",
      "numerical: -1.419755 analytic: -1.419754, relative error: 2.736281e-08\n",
      "numerical: 2.624844 analytic: 2.624844, relative error: 2.409357e-08\n",
      "\n",
      "Considering regularization term:\n",
      "numerical: 2.162452 analytic: 2.162452, relative error: 1.075170e-09\n",
      "numerical: 1.112819 analytic: 1.112819, relative error: 5.916289e-08\n",
      "numerical: 0.484231 analytic: 0.484231, relative error: 8.378159e-08\n",
      "numerical: -0.065866 analytic: -0.065866, relative error: 3.553120e-07\n",
      "numerical: 2.299443 analytic: 2.299443, relative error: 3.937238e-09\n",
      "numerical: 0.816864 analytic: 0.816864, relative error: 2.862783e-08\n",
      "numerical: 3.536010 analytic: 3.536009, relative error: 1.383139e-08\n",
      "numerical: -1.326755 analytic: -1.326755, relative error: 4.497913e-09\n",
      "numerical: -2.654621 analytic: -2.654621, relative error: 9.010958e-09\n",
      "numerical: 0.838679 analytic: 0.838679, relative error: 2.028498e-08\n"
     ]
    }
   ],
   "source": [
    "# Complete the implementation of softmax_loss_naive and implement a (naive)\n",
    "# version of the gradient that uses nested loops.\n",
    "loss, grad = softmax_loss_naive(W, X_dev, y_dev, 0.0)\n",
    "\n",
    "# As we did for the SVM, use numeric gradient checking as a debugging tool.\n",
    "# The numeric gradient should be close to the analytic gradient.\n",
    "from cs231n.gradient_check import grad_check_sparse\n",
    "f = lambda w: softmax_loss_naive(w, X_dev, y_dev, 0.0)[0]\n",
    "grad_numerical = grad_check_sparse(f, W, grad, 10)\n",
    "\n",
    "# similar to SVM case, do another gradient check with regularization\n",
    "print(\"\\nConsidering regularization term:\")\n",
    "loss, grad = softmax_loss_naive(W, X_dev, y_dev, 5e1)\n",
    "f = lambda w: softmax_loss_naive(w, X_dev, y_dev, 5e1)[0]\n",
    "grad_numerical = grad_check_sparse(f, W, grad, 10)"
   ]
  },
  {
   "cell_type": "code",
   "execution_count": 5,
   "metadata": {},
   "outputs": [
    {
     "name": "stdout",
     "output_type": "stream",
     "text": [
      "naive loss: 2.363505e+00 computed in 0.500036s\n",
      "vectorized loss: 2.363505e+00 computed in 0.015042s\n",
      "Loss difference: 0.000000\n",
      "Gradient difference: 0.000000\n"
     ]
    }
   ],
   "source": [
    "# Now that we have a naive implementation of the softmax loss function and its gradient,\n",
    "# implement a vectorized version in softmax_loss_vectorized.\n",
    "# The two versions should compute the same results, but the vectorized version should be\n",
    "# much faster.\n",
    "tic = time.time()\n",
    "loss_naive, grad_naive = softmax_loss_naive(W, X_dev, y_dev, 0.000005)\n",
    "toc = time.time()\n",
    "print('naive loss: %e computed in %fs' % (loss_naive, toc - tic))\n",
    "\n",
    "from cs231n.classifiers.softmax import softmax_loss_vectorized\n",
    "tic = time.time()\n",
    "loss_vectorized, grad_vectorized = softmax_loss_vectorized(W, X_dev, y_dev, 0.000005)\n",
    "toc = time.time()\n",
    "print('vectorized loss: %e computed in %fs' % (loss_vectorized, toc - tic))\n",
    "\n",
    "# As we did for the SVM, we use the Frobenius norm to compare the two versions\n",
    "# of the gradient.\n",
    "grad_difference = np.linalg.norm(grad_naive - grad_vectorized, ord='fro')\n",
    "print('Loss difference: %f' % np.abs(loss_naive - loss_vectorized))\n",
    "print('Gradient difference: %f' % grad_difference)"
   ]
  },
  {
   "cell_type": "code",
   "execution_count": 6,
   "metadata": {},
   "outputs": [
    {
     "name": "stdout",
     "output_type": "stream",
     "text": [
      "iteration 0 / 1800: loss 778.223313\n",
      "iteration 100 / 1800: loss 285.421492\n",
      "iteration 200 / 1800: loss 105.671293\n",
      "iteration 300 / 1800: loss 39.986531\n",
      "iteration 400 / 1800: loss 15.968440\n",
      "iteration 500 / 1800: loss 7.167053\n",
      "iteration 600 / 1800: loss 3.925260\n",
      "iteration 700 / 1800: loss 2.709808\n",
      "iteration 800 / 1800: loss 2.337864\n",
      "iteration 900 / 1800: loss 2.253848\n",
      "iteration 1000 / 1800: loss 2.141922\n",
      "iteration 1100 / 1800: loss 2.078264\n",
      "iteration 1200 / 1800: loss 2.104977\n",
      "iteration 1300 / 1800: loss 2.124807\n",
      "iteration 1400 / 1800: loss 2.117926\n",
      "iteration 1500 / 1800: loss 2.119288\n",
      "iteration 1600 / 1800: loss 2.101756\n",
      "iteration 1700 / 1800: loss 2.075448\n",
      "iteration 1799 / 1800: loss 2.101809\n",
      "iteration 0 / 1800: loss 607.423267\n",
      "iteration 100 / 1800: loss 272.582754\n",
      "iteration 200 / 1800: loss 123.130466\n",
      "iteration 300 / 1800: loss 56.178938\n",
      "iteration 400 / 1800: loss 26.402535\n",
      "iteration 500 / 1800: loss 12.922633\n",
      "iteration 600 / 1800: loss 6.929816\n",
      "iteration 700 / 1800: loss 4.315322\n",
      "iteration 800 / 1800: loss 3.028113\n",
      "iteration 900 / 1800: loss 2.526658\n",
      "iteration 1000 / 1800: loss 2.213011\n",
      "iteration 1100 / 1800: loss 2.111649\n",
      "iteration 1200 / 1800: loss 1.996487\n",
      "iteration 1300 / 1800: loss 2.176740\n",
      "iteration 1400 / 1800: loss 2.057955\n",
      "iteration 1500 / 1800: loss 2.120408\n",
      "iteration 1600 / 1800: loss 2.063864\n",
      "iteration 1700 / 1800: loss 2.079020\n",
      "iteration 1799 / 1800: loss 2.066671\n",
      "iteration 0 / 1800: loss 777.733617\n",
      "iteration 100 / 1800: loss 471.819087\n",
      "iteration 200 / 1800: loss 285.844739\n",
      "iteration 300 / 1800: loss 173.841028\n",
      "iteration 400 / 1800: loss 106.082626\n",
      "iteration 500 / 1800: loss 64.963490\n",
      "iteration 600 / 1800: loss 40.218946\n",
      "iteration 700 / 1800: loss 25.167300\n",
      "iteration 800 / 1800: loss 16.062097\n",
      "iteration 900 / 1800: loss 10.527554\n",
      "iteration 1000 / 1800: loss 7.155516\n",
      "iteration 1100 / 1800: loss 5.205476\n",
      "iteration 1200 / 1800: loss 3.955426\n",
      "iteration 1300 / 1800: loss 3.215132\n",
      "iteration 1400 / 1800: loss 2.787542\n",
      "iteration 1500 / 1800: loss 2.428491\n",
      "iteration 1600 / 1800: loss 2.386328\n",
      "iteration 1700 / 1800: loss 2.284517\n",
      "iteration 1799 / 1800: loss 2.182374\n",
      "iteration 0 / 1800: loss 624.550754\n",
      "iteration 100 / 1800: loss 418.434266\n",
      "iteration 200 / 1800: loss 280.506364\n",
      "iteration 300 / 1800: loss 188.448092\n",
      "iteration 400 / 1800: loss 126.775327\n",
      "iteration 500 / 1800: loss 85.457756\n",
      "iteration 600 / 1800: loss 57.801980\n",
      "iteration 700 / 1800: loss 39.405267\n",
      "iteration 800 / 1800: loss 27.113050\n",
      "iteration 900 / 1800: loss 18.822142\n",
      "iteration 1000 / 1800: loss 13.229564\n",
      "iteration 1100 / 1800: loss 9.595429\n",
      "iteration 1200 / 1800: loss 7.118229\n",
      "iteration 1300 / 1800: loss 5.457342\n",
      "iteration 1400 / 1800: loss 4.326443\n",
      "iteration 1500 / 1800: loss 3.599850\n",
      "iteration 1600 / 1800: loss 3.040234\n",
      "iteration 1700 / 1800: loss 2.813717\n",
      "iteration 1799 / 1800: loss 2.497179\n",
      "lr 5.000000e-08 reg 2.000000e+04 train accuracy: 0.334776 val accuracy: 0.347000\n",
      "lr 5.000000e-08 reg 2.500000e+04 train accuracy: 0.329898 val accuracy: 0.351000\n",
      "lr 1.000000e-07 reg 2.000000e+04 train accuracy: 0.338878 val accuracy: 0.348000\n",
      "lr 1.000000e-07 reg 2.500000e+04 train accuracy: 0.330163 val accuracy: 0.347000\n",
      "best validation accuracy achieved during cross-validation: 0.351000\n"
     ]
    }
   ],
   "source": [
    "# Use the validation set to tune hyperparameters (regularization strength and\n",
    "# learning rate). You should experiment with different ranges for the learning\n",
    "# rates and regularization strengths; if you are careful you should be able to\n",
    "# get a classification accuracy of over 0.35 on the validation set.\n",
    "from cs231n.classifiers import Softmax\n",
    "results = {}\n",
    "best_val = -1\n",
    "best_softmax = None\n",
    "learning_rates = [1e-7, 0.5e-7]\n",
    "regularization_strengths = [2.5e4, 2e4]\n",
    "\n",
    "################################################################################\n",
    "# TODO:                                                                        #\n",
    "# Use the validation set to set the learning rate and regularization strength. #\n",
    "# This should be identical to the validation that you did for the SVM; save    #\n",
    "# the best trained softmax classifer in best_softmax.                          #\n",
    "################################################################################\n",
    "for lr in learning_rates:\n",
    "    for reg in regularization_strengths:\n",
    "        clf = Softmax()    # classifier\n",
    "        loss_hist = clf.train(X_train, y_train, lr, reg, num_iters=1800, verbose=True)\n",
    "        val_pred = clf.predict(X_val)\n",
    "        train_pred = clf.predict(X_train)\n",
    "        \n",
    "#         acc_val = np.sum((val_pred == y_val).astype(float)) / y_pred.size\n",
    "#         acc_train = np.sum((train_pred == y_train).astype(float)) / y_train.size\n",
    "        acc_train = np.mean(train_pred == y_train)\n",
    "        acc_val = np.mean(val_pred == y_val)\n",
    "        results[(lr, reg)] = (acc_train, acc_val)\n",
    "        \n",
    "        if acc_val > best_val:\n",
    "            best_val = acc_val \n",
    "            best_softmax = clf       \n",
    "            \n",
    "################################################################################\n",
    "#                              END OF YOUR CODE                                #\n",
    "################################################################################\n",
    "    \n",
    "# Print out results.\n",
    "for lr, reg in sorted(results):\n",
    "    train_accuracy, val_accuracy = results[(lr, reg)]\n",
    "    print('lr %e reg %e train accuracy: %f val accuracy: %f' % (lr, reg, train_accuracy, val_accuracy))\n",
    "    \n",
    "print('best validation accuracy achieved during cross-validation: %f' % best_val)"
   ]
  },
  {
   "cell_type": "code",
   "execution_count": 7,
   "metadata": {},
   "outputs": [
    {
     "name": "stdout",
     "output_type": "stream",
     "text": [
      "softmax on raw pixels final test set accuracy: 0.347000\n"
     ]
    }
   ],
   "source": [
    "# evaluate on test set\n",
    "# Evaluate the best softmax on test set\n",
    "y_test_pred = best_softmax.predict(X_test)\n",
    "test_accuracy = np.mean(y_test == y_test_pred)\n",
    "print('softmax on raw pixels final test set accuracy: %f' % (test_accuracy, ))"
   ]
  },
  {
   "cell_type": "code",
   "execution_count": 8,
   "metadata": {},
   "outputs": [
    {
     "data": {
      "image/png": "[encoded data removed]",
      "text/plain": [
       "<Figure size 432x288 with 10 Axes>"
      ]
     },
     "metadata": {
      "needs_background": "light"
     },
     "output_type": "display_data"
    }
   ],
   "source": [
    "# Visualize the learned weights for each class\n",
    "w = best_softmax.W[:-1,:] # strip out the bias\n",
    "w = w.reshape(32, 32, 3, 10)\n",
    "\n",
    "w_min, w_max = np.min(w), np.max(w)    # two scalars\n",
    "\n",
    "classes = ['plane', 'car', 'bird', 'cat', 'deer', 'dog', 'frog', 'horse', 'ship', 'truck']\n",
    "for i in range(10):\n",
    "    plt.subplot(2, 5, i + 1)\n",
    "    \n",
    "    # Rescale the weights to be between 0 and 255\n",
    "    wimg = 255.0 * (w[:, :, :, i].squeeze() - w_min) / (w_max - w_min)\n",
    "    plt.imshow(wimg.astype('uint8'))    # round W elements into integers\n",
    "    plt.axis('off')\n",
    "    plt.title(classes[i])"
   ]
  },
  {
   "cell_type": "code",
   "execution_count": null,
   "metadata": {},
   "outputs": [],
   "source": []
  }
 ],
 "metadata": {
  "kernelspec": {
   "display_name": "Python 3",
   "language": "python",
   "name": "python3"
  },
  "language_info": {
   "codemirror_mode": {
    "name": "ipython",
    "version": 3
   },
   "file_extension": ".py",
   "mimetype": "text/x-python",
   "name": "python",
   "nbconvert_exporter": "python",
   "pygments_lexer": "ipython3",
   "version": "3.5.2"
  }
 },
 "nbformat": 4,
 "nbformat_minor": 1
}
